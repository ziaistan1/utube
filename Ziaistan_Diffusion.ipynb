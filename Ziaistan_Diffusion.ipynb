{
  "cells": [
    {
      "cell_type": "markdown",
      "metadata": {
        "id": "view-in-github",
        "colab_type": "text"
      },
      "source": [
        "<a href=\"https://colab.research.google.com/github/ziaistan1/utube/blob/master/Ziaistan_Diffusion.ipynb\" target=\"_parent\"><img src=\"https://colab.research.google.com/assets/colab-badge.svg\" alt=\"Open In Colab\"/></a>"
      ]
    },
    {
      "cell_type": "code",
      "source": [
        "# @title Clone Ziaistan’s Diffusion { form-width: \"20px\", display-mode: \"form\" }\n",
        "!git clone https://github.com/ziaistan1/zias-diffusion-aiui.git"
      ],
      "metadata": {
        "id": "XjTdlq_j_OOu"
      },
      "execution_count": null,
      "outputs": []
    },
    {
      "cell_type": "code",
      "source": [
        "# @title Install Requirements\n",
        "!pip install -r zias-diffusion-aiui/requirements.txt"
      ],
      "metadata": {
        "cellView": "form",
        "id": "xRAz0tOR-w3I"
      },
      "execution_count": null,
      "outputs": []
    },
    {
      "cell_type": "code",
      "source": [
        "# @title Go-to Working directory\n",
        "%cd zias-diffusion-aiui"
      ],
      "metadata": {
        "cellView": "form",
        "id": "9BHkznPg-26C"
      },
      "execution_count": null,
      "outputs": []
    },
    {
      "cell_type": "code",
      "source": [
        "# @title Run This cell after the appearance of gradio link stop it and run the below cell { form-width: \"20px\" }\n",
        "!python launch.py --share"
      ],
      "metadata": {
        "cellView": "form",
        "id": "Z4Tjgz_XL1tD"
      },
      "execution_count": null,
      "outputs": []
    },
    {
      "cell_type": "code",
      "source": [
        "# @title If you want to add extensions to the Diffusion than run this cell after running open the diffusion after opening install extensions of your choice after installing click apply and quit come here again and run this cell again extensions will be successfully installed\n",
        "!python launch.py --share --api --disable-safe-unpickle --enable-insecure-extension-access --no-download-sd-model --no-half-vae --xformers --disable-console-progressbars"
      ],
      "metadata": {
        "cellView": "form",
        "id": "SX3JrQcwJH_9"
      },
      "execution_count": null,
      "outputs": []
    }
  ],
  "metadata": {
    "accelerator": "GPU",
    "colab": {
      "provenance": [],
      "gpuType": "T4",
      "include_colab_link": true
    },
    "gpuClass": "standard",
    "kernelspec": {
      "display_name": "Python 3",
      "name": "python3"
    },
    "language_info": {
      "name": "python"
    }
  },
  "nbformat": 4,
  "nbformat_minor": 0
}